{
  "nbformat": 4,
  "nbformat_minor": 0,
  "metadata": {
    "colab": {
      "provenance": []
    },
    "kernelspec": {
      "name": "python3",
      "display_name": "Python 3"
    },
    "language_info": {
      "name": "python"
    }
  },
  "cells": [
    {
      "cell_type": "markdown",
      "source": [
        "Делал в colab, запускать лучше там же. Чтобы работало, файл клал сюда\n",
        "![Screenshot_7.png](data:image/png;base64,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)"
      ],
      "metadata": {
        "id": "7WWhub1lvnh5"
      }
    },
    {
      "cell_type": "markdown",
      "source": [
        "# Задание 9\n",
        "Опирался на вот эту статью: https://habr.com/ru/articles/517410/"
      ],
      "metadata": {
        "id": "mKQx8Xswxff1"
      }
    },
    {
      "cell_type": "code",
      "source": [
        "!pip install nltk"
      ],
      "metadata": {
        "id": "kbXhxK_3yxVE"
      },
      "execution_count": null,
      "outputs": []
    },
    {
      "cell_type": "code",
      "source": [
        "!pip install pymorphy2"
      ],
      "metadata": {
        "id": "OGI9KotA3xIk"
      },
      "execution_count": null,
      "outputs": []
    },
    {
      "cell_type": "code",
      "source": [
        "!pip install -U pymorphy2-dicts-ru"
      ],
      "metadata": {
        "id": "Pz85z8683nyc"
      },
      "execution_count": null,
      "outputs": []
    },
    {
      "cell_type": "code",
      "source": [
        "import string\n",
        "import nltk\n",
        "from nltk import word_tokenize\n",
        "from nltk.probability import FreqDist\n",
        "from nltk.corpus import stopwords\n",
        "import pymorphy2"
      ],
      "metadata": {
        "id": "PSSVk1mwxRoE"
      },
      "execution_count": 121,
      "outputs": []
    },
    {
      "cell_type": "code",
      "source": [
        "nltk.download('punkt')"
      ],
      "metadata": {
        "id": "HQgwoL_1zK0m"
      },
      "execution_count": null,
      "outputs": []
    },
    {
      "cell_type": "code",
      "source": [
        "nltk.download('stopwords')"
      ],
      "metadata": {
        "id": "3GdSg1DO25eQ"
      },
      "execution_count": null,
      "outputs": []
    },
    {
      "cell_type": "markdown",
      "source": [
        "## Задание 9. Функция для построения частотного словаря"
      ],
      "metadata": {
        "id": "QLY8z8PB-0nP"
      }
    },
    {
      "cell_type": "code",
      "source": [
        "# построение словаря одной функцией\n",
        "def make_freq_dict_ru(input_path : str, output_path : str):\n",
        "    # функция удаляет заданные символы из текста\n",
        "    def replace_chars_in_text(text, chars, sub_char):\n",
        "        return sub_char.join([ch for ch in text if ch not in chars])\n",
        "\n",
        "    # открываю файл и считываю текст\n",
        "    spec_chars = string.punctuation + '\\xa0«»\\t—…*'\n",
        "    f = open(input_path, 'r', encoding='utf-8')\n",
        "    text = f.read()\n",
        "\n",
        "    # привожу к нижнему регистру, удаляю пунктуацию и цифры\n",
        "    text = text.lower()\n",
        "    text = replace_chars_in_text(text, spec_chars, '')\n",
        "    text = replace_chars_in_text(text, string.digits, '')\n",
        "\n",
        "    # токенизирую и удаляю из текста стоп-слова\n",
        "    text_tokens = word_tokenize(text)\n",
        "    russian_stopwords = stopwords.words(\"russian\")\n",
        "    text_tokens = [word for word in text_tokens if not word in russian_stopwords]\n",
        "\n",
        "    # нормализую слова\n",
        "    morph = pymorphy2.MorphAnalyzer()\n",
        "\n",
        "    for i in range(len(text_tokens)):\n",
        "        text_tokens[i] = morph.parse(text_tokens[i])[0].normal_form\n",
        "\n",
        "    # формирую словарь\n",
        "    nltk_text = nltk.Text(text_tokens)\n",
        "    fdist = FreqDist(nltk_text)\n",
        "\n",
        "    # формирую файл со словарем\n",
        "    with open(output_path, 'w', encoding='utf-8') as f:\n",
        "        for word in fdist:\n",
        "            f.write(f'{word}: {fdist[word]}\\n')"
      ],
      "metadata": {
        "id": "HH_fWlXI-_vm"
      },
      "execution_count": 156,
      "outputs": []
    },
    {
      "cell_type": "code",
      "source": [
        "make_freq_dict_ru('input.txt', 'output.txt')"
      ],
      "metadata": {
        "id": "nT6qCivd_BEc"
      },
      "execution_count": 157,
      "outputs": []
    },
    {
      "cell_type": "markdown",
      "source": [
        "## Задание 9. Построение частотного словаря пошагово и более подробно"
      ],
      "metadata": {
        "id": "sMyfv_QW_FSr"
      }
    },
    {
      "cell_type": "code",
      "execution_count": 150,
      "metadata": {
        "id": "4rTGdxWctFUD"
      },
      "outputs": [],
      "source": [
        "spec_chars = string.punctuation + '\\xa0«»\\t—…*'\n",
        "input_path = 'input.txt'\n",
        "output_path = 'output.txt'"
      ]
    },
    {
      "cell_type": "code",
      "source": [
        "f = open(input_path, 'r', encoding='utf-8')\n",
        "text = f.read()\n",
        "text = text.lower()\n",
        "len(text)"
      ],
      "metadata": {
        "colab": {
          "base_uri": "https://localhost:8080/"
        },
        "id": "qdp5-7A0vZDG",
        "outputId": "a4dd5132-b8a7-48a6-a3e6-c24ae5ec968a"
      },
      "execution_count": 98,
      "outputs": [
        {
          "output_type": "execute_result",
          "data": {
            "text/plain": [
              "1890"
            ]
          },
          "metadata": {},
          "execution_count": 98
        }
      ]
    },
    {
      "cell_type": "code",
      "source": [
        "def replace_chars_in_text(text, chars, sub_char):\n",
        "    # функция удаляет заданные символы из текста\n",
        "    return sub_char.join([ch for ch in text if ch not in chars])"
      ],
      "metadata": {
        "id": "yYePeZquzaTt"
      },
      "execution_count": 99,
      "outputs": []
    },
    {
      "cell_type": "code",
      "source": [
        "# удаляю пунктуацию\n",
        "text = replace_chars_in_text(text, spec_chars, '')\n",
        "len(text)"
      ],
      "metadata": {
        "colab": {
          "base_uri": "https://localhost:8080/"
        },
        "id": "pHr7CeSMyHcf",
        "outputId": "5b253fb6-bc3a-4926-fe6b-8367bf095e9f"
      },
      "execution_count": 100,
      "outputs": [
        {
          "output_type": "execute_result",
          "data": {
            "text/plain": [
              "1819"
            ]
          },
          "metadata": {},
          "execution_count": 100
        }
      ]
    },
    {
      "cell_type": "code",
      "source": [
        "# удаляю цифры, так как мне кажется, что они только портят данные\n",
        "text = replace_chars_in_text(text, string.digits, '')\n",
        "len(text)"
      ],
      "metadata": {
        "colab": {
          "base_uri": "https://localhost:8080/"
        },
        "id": "PfBF_obVzfv4",
        "outputId": "ebe75226-5c58-4c29-b585-f4c95f13b31f"
      },
      "execution_count": 101,
      "outputs": [
        {
          "output_type": "execute_result",
          "data": {
            "text/plain": [
              "1799"
            ]
          },
          "metadata": {},
          "execution_count": 101
        }
      ]
    },
    {
      "cell_type": "code",
      "source": [
        "text_tokens = word_tokenize(text)\n",
        "len(text_tokens)"
      ],
      "metadata": {
        "colab": {
          "base_uri": "https://localhost:8080/"
        },
        "id": "ETSSxnIWyirK",
        "outputId": "0ed4f330-85af-4e06-80e6-bff1e59d784c"
      },
      "execution_count": 102,
      "outputs": [
        {
          "output_type": "execute_result",
          "data": {
            "text/plain": [
              "230"
            ]
          },
          "metadata": {},
          "execution_count": 102
        }
      ]
    },
    {
      "cell_type": "code",
      "source": [
        "text_tokens[:5]"
      ],
      "metadata": {
        "colab": {
          "base_uri": "https://localhost:8080/"
        },
        "id": "PNoFWY2ezRbh",
        "outputId": "8e0628b7-3b5a-4861-a3e5-dfa972cb4fbe"
      },
      "execution_count": 103,
      "outputs": [
        {
          "output_type": "execute_result",
          "data": {
            "text/plain": [
              "['задание', 'балл', 'написать', 'программу', 'python']"
            ]
          },
          "metadata": {},
          "execution_count": 103
        }
      ]
    },
    {
      "cell_type": "code",
      "source": [
        "nltk_text = nltk.Text(text_tokens)\n",
        "print(type(nltk_text))\n",
        "nltk_text[:5]"
      ],
      "metadata": {
        "colab": {
          "base_uri": "https://localhost:8080/"
        },
        "id": "9PStGr770y8b",
        "outputId": "01d5ad08-7c1e-4d28-fa80-de1fe1d2b31d"
      },
      "execution_count": 104,
      "outputs": [
        {
          "output_type": "stream",
          "name": "stdout",
          "text": [
            "<class 'nltk.text.Text'>\n"
          ]
        },
        {
          "output_type": "execute_result",
          "data": {
            "text/plain": [
              "['задание', 'балл', 'написать', 'программу', 'python']"
            ]
          },
          "metadata": {},
          "execution_count": 104
        }
      ]
    },
    {
      "cell_type": "code",
      "source": [
        "fdist = FreqDist(nltk_text)\n",
        "fdist"
      ],
      "metadata": {
        "colab": {
          "base_uri": "https://localhost:8080/"
        },
        "id": "HAE2CNvH1ORV",
        "outputId": "738066db-598a-43c4-be25-fed88663f334"
      },
      "execution_count": 105,
      "outputs": [
        {
          "output_type": "execute_result",
          "data": {
            "text/plain": [
              "FreqDist({'в': 12, 'на': 6, 'текст': 6, 'предложений': 6, 'задание': 5, 'для': 5, 'балл': 4, 'с': 4, 'по': 4, 'и': 4, ...})"
            ]
          },
          "metadata": {},
          "execution_count": 105
        }
      ]
    },
    {
      "cell_type": "code",
      "source": [
        "# график частоты слов\n",
        "fdist.plot(30,cumulative=False)"
      ],
      "metadata": {
        "colab": {
          "base_uri": "https://localhost:8080/",
          "height": 569
        },
        "id": "WCh5-hQQ2AVK",
        "outputId": "3e989887-140a-4d66-8cc0-3c5723b70052"
      },
      "execution_count": 107,
      "outputs": [
        {
          "output_type": "display_data",
          "data": {
            "text/plain": [
              "<Figure size 640x480 with 1 Axes>"
            ],
            "image/png": "[encoded data removed]"
          },
          "metadata": {}
        },
        {
          "output_type": "execute_result",
          "data": {
            "text/plain": [
              "<Axes: xlabel='Samples', ylabel='Counts'>"
            ]
          },
          "metadata": {},
          "execution_count": 107
        }
      ]
    },
    {
      "cell_type": "code",
      "source": [
        "russian_stopwords = stopwords.words(\"russian\")\n",
        "tokens_without_sw = [word for word in text_tokens if not word in russian_stopwords]\n",
        "len(tokens_without_sw)"
      ],
      "metadata": {
        "colab": {
          "base_uri": "https://localhost:8080/"
        },
        "id": "-hzZnMUI2LDA",
        "outputId": "18825c91-2e5f-4f53-d295-169a1034c50c"
      },
      "execution_count": 112,
      "outputs": [
        {
          "output_type": "execute_result",
          "data": {
            "text/plain": [
              "181"
            ]
          },
          "metadata": {},
          "execution_count": 112
        }
      ]
    },
    {
      "cell_type": "code",
      "source": [
        "nltk_text_sw = nltk.Text(tokens_without_sw)\n",
        "fdist_sw = FreqDist(nltk_text_sw)\n",
        "fdist_sw"
      ],
      "metadata": {
        "colab": {
          "base_uri": "https://localhost:8080/"
        },
        "id": "On8S9Cia3Iy7",
        "outputId": "9ecc4f54-913d-42b9-edfd-524cb2a5d351"
      },
      "execution_count": 114,
      "outputs": [
        {
          "output_type": "execute_result",
          "data": {
            "text/plain": [
              "FreqDist({'текст': 6, 'предложений': 6, 'задание': 5, 'балл': 4, 'слов': 4, 'библиотеку': 3, 'алгоритм': 3, 'сжатия': 3, 'веса': 3, 'построения': 2, ...})"
            ]
          },
          "metadata": {},
          "execution_count": 114
        }
      ]
    },
    {
      "cell_type": "code",
      "source": [
        "# график частоты слов\n",
        "fdist_sw.plot(30,cumulative=False)"
      ],
      "metadata": {
        "colab": {
          "base_uri": "https://localhost:8080/",
          "height": 569
        },
        "id": "-HBHR1se3XGt",
        "outputId": "692a196d-cd6f-4ddb-f208-eae4025c05a9"
      },
      "execution_count": 115,
      "outputs": [
        {
          "output_type": "display_data",
          "data": {
            "text/plain": [
              "<Figure size 640x480 with 1 Axes>"
            ],
            "image/png": "[encoded data removed]"
          },
          "metadata": {}
        },
        {
          "output_type": "execute_result",
          "data": {
            "text/plain": [
              "<Axes: xlabel='Samples', ylabel='Counts'>"
            ]
          },
          "metadata": {},
          "execution_count": 115
        }
      ]
    },
    {
      "cell_type": "code",
      "source": [
        "morph = pymorphy2.MorphAnalyzer()\n",
        "tokens_norm = []\n",
        "\n",
        "for i in range(len(tokens_without_sw)):\n",
        "    tokens_norm.append(morph.parse(tokens_without_sw[i])[0].normal_form)"
      ],
      "metadata": {
        "id": "0Oo8DD7E4B_L"
      },
      "execution_count": 134,
      "outputs": []
    },
    {
      "cell_type": "code",
      "source": [
        "print(tokens_without_sw[10:17])\n",
        "tokens_norm[10:17]"
      ],
      "metadata": {
        "colab": {
          "base_uri": "https://localhost:8080/"
        },
        "id": "XkNWquDD5iBA",
        "outputId": "b67e2e7b-ff84-49c2-c7e3-b9ce2106e90f"
      },
      "execution_count": 144,
      "outputs": [
        {
          "output_type": "stream",
          "name": "stdout",
          "text": [
            "['словаря', 'текста', 'русском', 'языке', 'учета', 'стопслов', 'входной']\n"
          ]
        },
        {
          "output_type": "execute_result",
          "data": {
            "text/plain": [
              "['словарь', 'текст', 'русский', 'язык', 'учёт', 'стопслово', 'входной']"
            ]
          },
          "metadata": {},
          "execution_count": 144
        }
      ]
    },
    {
      "cell_type": "code",
      "source": [
        "nltk_text_norm = nltk.Text(tokens_norm)\n",
        "fdist_norm = FreqDist(nltk_text_norm)\n",
        "fdist_norm"
      ],
      "metadata": {
        "colab": {
          "base_uri": "https://localhost:8080/"
        },
        "id": "EkGXjPYH6x5D",
        "outputId": "09d9cd6c-0ad2-4af4-a85e-c0fc3d3f8744"
      },
      "execution_count": 145,
      "outputs": [
        {
          "output_type": "execute_result",
          "data": {
            "text/plain": [
              "FreqDist({'текст': 10, 'предложение': 10, 'задание': 6, 'вес': 6, 'слово': 5, 'балл': 4, 'словарь': 4, 'программа': 3, 'частотный': 3, 'стопслово': 3, ...})"
            ]
          },
          "metadata": {},
          "execution_count": 145
        }
      ]
    },
    {
      "cell_type": "code",
      "source": [
        "# график частоты слов\n",
        "fdist.plot(30,cumulative=False)"
      ],
      "metadata": {
        "colab": {
          "base_uri": "https://localhost:8080/",
          "height": 569
        },
        "id": "jJMnsbT2664C",
        "outputId": "7eef8319-47a0-41b5-b5f4-73940046f726"
      },
      "execution_count": 146,
      "outputs": [
        {
          "output_type": "display_data",
          "data": {
            "text/plain": [
              "<Figure size 640x480 with 1 Axes>"
            ],
            "image/png": "[encoded data removed]"
          },
          "metadata": {}
        },
        {
          "output_type": "execute_result",
          "data": {
            "text/plain": [
              "<Axes: xlabel='Samples', ylabel='Counts'>"
            ]
          },
          "metadata": {},
          "execution_count": 146
        }
      ]
    },
    {
      "cell_type": "code",
      "source": [
        "with open(output_path, 'w', encoding='utf-8') as f:\n",
        "    for word in fdist_norm:\n",
        "        f.write(f'{word}: {fdist_norm[word]}\\n')"
      ],
      "metadata": {
        "id": "O7x8viBP7ZQp"
      },
      "execution_count": 152,
      "outputs": []
    },
    {
      "cell_type": "markdown",
      "source": [
        "# Задание 10"
      ],
      "metadata": {
        "id": "2glWhyA9ATVF"
      }
    },
    {
      "cell_type": "code",
      "source": [
        "from nltk.stem.snowball import SnowballStemmer"
      ],
      "metadata": {
        "id": "nGcsil6dBTWZ"
      },
      "execution_count": 159,
      "outputs": []
    },
    {
      "cell_type": "code",
      "source": [
        "# построение словаря одной функцией\n",
        "def make_freq_dict_ru_stem(input_path : str, output_path : str):\n",
        "    # функция удаляет заданные символы из текста\n",
        "    def replace_chars_in_text(text, chars, sub_char):\n",
        "        return sub_char.join([ch for ch in text if ch not in chars])\n",
        "\n",
        "    # открываю файл и считываю текст\n",
        "    spec_chars = string.punctuation + '\\xa0«»\\t—…*'\n",
        "    f = open(input_path, 'r', encoding='utf-8')\n",
        "    text = f.read()\n",
        "\n",
        "    # привожу к нижнему регистру, удаляю пунктуацию и цифры\n",
        "    text = text.lower()\n",
        "    text = replace_chars_in_text(text, spec_chars, '')\n",
        "    text = replace_chars_in_text(text, string.digits, '')\n",
        "\n",
        "    # токенизирую и удаляю из текста стоп-слова\n",
        "    text_tokens = word_tokenize(text)\n",
        "    russian_stopwords = stopwords.words(\"russian\")\n",
        "    text_tokens = [word for word in text_tokens if not word in russian_stopwords]\n",
        "\n",
        "    # нормализую слова\n",
        "    snowball = SnowballStemmer(\"russian\")\n",
        "\n",
        "    for i in range(len(text_tokens)):\n",
        "        text_tokens[i] = snowball.stem(text_tokens[i])\n",
        "\n",
        "    # формирую словарь\n",
        "    nltk_text = nltk.Text(text_tokens)\n",
        "    fdist = FreqDist(nltk_text)\n",
        "\n",
        "    # формирую файл со словарем\n",
        "    with open(output_path, 'w', encoding='utf-8') as f:\n",
        "        for word in fdist:\n",
        "            f.write(f'{word}: {fdist[word]}\\n')"
      ],
      "metadata": {
        "id": "4C-yuZvfA2nr"
      },
      "execution_count": 161,
      "outputs": []
    },
    {
      "cell_type": "code",
      "source": [
        "make_freq_dict_ru_stem('input.txt', 'output_stem.txt')"
      ],
      "metadata": {
        "id": "DhiaQyYRA8mS"
      },
      "execution_count": 162,
      "outputs": []
    },
    {
      "cell_type": "markdown",
      "source": [
        "# Задание 11"
      ],
      "metadata": {
        "id": "EXIyRoBMTyGX"
      }
    },
    {
      "cell_type": "markdown",
      "source": [
        "Опирался на вот эту статью: https://habr.com/ru/companies/otus/articles/755772/"
      ],
      "metadata": {
        "id": "dqN357F3X1lU"
      }
    },
    {
      "cell_type": "code",
      "source": [
        "from sklearn.feature_extraction.text import TfidfVectorizer"
      ],
      "metadata": {
        "id": "Dw8V2MhVaiQO"
      },
      "execution_count": 166,
      "outputs": []
    },
    {
      "cell_type": "code",
      "source": [
        "# Текстовые данные, взяты из статьи: https://habr.com/ru/news/770514/\n",
        "documents = [\n",
        "    \"В конце октября 2022 года Илон Маск купил соцсеть Twitter, ныне X.\",\n",
        "    \"Ряд СМИ вместе с аналитиками попробовали подвести итоги прошедшего года.\",\n",
        "    \"27 октября 2022 года Маск официально взял на себя управление компанией.\",\n",
        "    \"Он немедленно уволил весь топ-менеджмент Twitter, а в течение следующих недель ещё около 5000 человек, или примерно две трети штата компании, оставшись с относительно небольшой командой в примерно 1500 сотрудников.\",\n",
        "    \"Сразу после покупки компании Маск заявил о планах жёсткой борьбы с ботами, а чуть позже — о намерении превратить Twitter в «приложение для всего», включающее в себя платформу цифровых платежей, а также аудио- и видеозвонки.\",\n",
        "    \"Он заявил сотрудникам, что, несмотря на массовые сокращения, он видит «ясный, но трудный путь» к будущей оценке компании в более чем $250 млрд.\",\n",
        "    \"Тем не менее, как считает большинство аналитиков, за прошедший год платформа пострадала от ряда необдуманных решений и сейчас сталкивается с огромной конкуренцией.\",\n",
        "    \"Как отмечает ArsTechnica, после того как Маск сделал компанию частной, она перестала предоставлять подробные отчёты о своём финансовом состоянии и числе пользователей, однако сторонние аналитики, ориентируясь на открытые и слитые данные, считают, что платформа находится в упадке.\",\n",
        "    \"Так, в отчёте The Information, опубликованном в начале октября, говорится, что с момента покупки Маском компании «количество ежедневных активных пользователей X упало на 3,7%до 245 миллионов».\",\n",
        "    \"Многих пользователей отпугнули спорные шаги, такие как сокращение команд модераторов, взимание платы за верификацию аккаунтов и неожиданный ребрендинг. \",\n",
        "    \"Немного другие данные приводят аналитики из Sensor Tower.\",\n",
        "    \"Они утверждают, что число ежедневных активных пользователей X в августе 2023 года снизилось на 9% процентов по сравнению с августом 2022 года.\",\n",
        "    \"Падение числа пользователей сопровождается также сокращением времени, проведённого в соцсети (падение составило 13%), что, по мнению Sensor Tower, гораздо более важный показатель. \",\n",
        "    \"Ещё одна исследовательская фирма Similarweb сообщила на прошлой неделе, что за год использование X «снизилось по всем параметрам».\",\n",
        "    \"«В сентябре глобальный трафик на twitter.com снизился на 14% по сравнению с аналогичным периодом прошлого года, а трафик на Ads.twitter.com для рекламодателей снизился на 16,5%.\",\n",
        "    \"В США, откуда приходится около четверти трафика twitter.com, сентябрьский трафик снизился на 19%.\",\n",
        "    \"Тенденция была аналогичной, хотя и не столь выраженной, в других странах: минус 11,6% в Великобритании, минус 13,4% во Франции, минус 17,9% в Германии и минус 17,5% в Австралии».\"\n",
        "]"
      ],
      "metadata": {
        "colab": {
          "base_uri": "https://localhost:8080/"
        },
        "id": "75hYATfQYPdg",
        "outputId": "e17e5ff0-fcf0-459b-9a42-15bb5669cfb3"
      },
      "execution_count": 171,
      "outputs": [
        {
          "output_type": "stream",
          "name": "stdout",
          "text": [
            "[(0.362798893488386, 'соцсеть'), (0.362798893488386, 'ныне'), (0.362798893488386, 'купил'), (0.362798893488386, 'конце'), (0.362798893488386, 'илон'), (0.2841453538170319, 'октября'), (0.2841453538170319, '2022'), (0.25882456963448525, 'маск'), (0.23813598256030596, 'года'), (0.23813598256030596, 'twitter'), (0.0, 'ясный'), (0.0, 'штата'), (0.0, 'шаги'), (0.0, 'чуть'), (0.0, 'что'), (0.0, 'число'), (0.0, 'числе'), (0.0, 'числа'), (0.0, 'четверти'), (0.0, 'чем'), (0.0, 'человек'), (0.0, 'частной'), (0.0, 'цифровых'), (0.0, 'хотя'), (0.0, 'франции'), (0.0, 'фирма'), (0.0, 'финансовом'), (0.0, 'утверждают'), (0.0, 'управление'), (0.0, 'упало'), (0.0, 'упадке'), (0.0, 'уволил'), (0.0, 'трудный'), (0.0, 'трети'), (0.0, 'трафика'), (0.0, 'трафик'), (0.0, 'топ'), (0.0, 'того'), (0.0, 'течение'), (0.0, 'тенденция'), (0.0, 'тем'), (0.0, 'такие'), (0.0, 'также'), (0.0, 'так'), (0.0, 'сша'), (0.0, 'считают'), (0.0, 'считает'), (0.0, 'странах'), (0.0, 'сторонние'), (0.0, 'столь'), (0.0, 'сталкивается'), (0.0, 'сразу'), (0.0, 'сравнению'), (0.0, 'спорные'), (0.0, 'соцсети'), (0.0, 'сотрудников'), (0.0, 'сотрудникам'), (0.0, 'состоянии'), (0.0, 'составило'), (0.0, 'сопровождается'), (0.0, 'сообщила'), (0.0, 'сокращения'), (0.0, 'сокращением'), (0.0, 'сокращение'), (0.0, 'снизился'), (0.0, 'снизилось'), (0.0, 'сми'), (0.0, 'слитые'), (0.0, 'следующих'), (0.0, 'сентябрьский'), (0.0, 'сентябре'), (0.0, 'сейчас'), (0.0, 'себя'), (0.0, 'сделал'), (0.0, 'своём'), (0.0, 'ряда'), (0.0, 'ряд'), (0.0, 'решений'), (0.0, 'рекламодателей'), (0.0, 'ребрендинг'), (0.0, 'путь'), (0.0, 'прошлой'), (0.0, 'прошлого'), (0.0, 'прошедший'), (0.0, 'прошедшего'), (0.0, 'процентов'), (0.0, 'проведённого'), (0.0, 'приходится'), (0.0, 'примерно'), (0.0, 'приложение'), (0.0, 'приводят'), (0.0, 'предоставлять'), (0.0, 'превратить'), (0.0, 'пострадала'), (0.0, 'после'), (0.0, 'попробовали'), (0.0, 'пользователей'), (0.0, 'покупки'), (0.0, 'показатель'), (0.0, 'позже'), (0.0, 'подробные'), (0.0, 'подвести'), (0.0, 'по'), (0.0, 'платы'), (0.0, 'платформу'), (0.0, 'платформа'), (0.0, 'платежей'), (0.0, 'планах'), (0.0, 'периодом'), (0.0, 'перестала'), (0.0, 'параметрам'), (0.0, 'падение'), (0.0, 'оценке'), (0.0, 'официально'), (0.0, 'отчёты'), (0.0, 'отчёте'), (0.0, 'отпугнули'), (0.0, 'относительно'), (0.0, 'отмечает'), (0.0, 'откуда'), (0.0, 'открытые'), (0.0, 'от'), (0.0, 'оставшись'), (0.0, 'ориентируясь'), (0.0, 'опубликованном'), (0.0, 'они'), (0.0, 'она'), (0.0, 'он'), (0.0, 'около'), (0.0, 'однако'), (0.0, 'одна'), (0.0, 'огромной'), (0.0, 'но'), (0.0, 'несмотря'), (0.0, 'неожиданный'), (0.0, 'необдуманных'), (0.0, 'немного'), (0.0, 'немедленно'), (0.0, 'недель'), (0.0, 'неделе'), (0.0, 'небольшой'), (0.0, 'не'), (0.0, 'начале'), (0.0, 'находится'), (0.0, 'намерении'), (0.0, 'на'), (0.0, 'момента'), (0.0, 'модераторов'), (0.0, 'многих'), (0.0, 'мнению'), (0.0, 'млрд'), (0.0, 'минус'), (0.0, 'миллионов'), (0.0, 'менее'), (0.0, 'менеджмент'), (0.0, 'массовые'), (0.0, 'маском'), (0.0, 'конкуренцией'), (0.0, 'компанию'), (0.0, 'компании'), (0.0, 'компанией'), (0.0, 'командой'), (0.0, 'команд'), (0.0, 'количество'), (0.0, 'как'), (0.0, 'итоги'), (0.0, 'исследовательская'), (0.0, 'использование'), (0.0, 'или'), (0.0, 'из'), (0.0, 'заявил'), (0.0, 'за'), (0.0, 'жёсткой'), (0.0, 'ещё'), (0.0, 'ежедневных'), (0.0, 'других'), (0.0, 'другие'), (0.0, 'до'), (0.0, 'для'), (0.0, 'две'), (0.0, 'данные'), (0.0, 'гораздо'), (0.0, 'год'), (0.0, 'говорится'), (0.0, 'глобальный'), (0.0, 'германии'), (0.0, 'выраженной'), (0.0, 'всем'), (0.0, 'всего'), (0.0, 'времени'), (0.0, 'во'), (0.0, 'вместе'), (0.0, 'включающее'), (0.0, 'видит'), (0.0, 'видеозвонки'), (0.0, 'взял'), (0.0, 'взимание'), (0.0, 'весь'), (0.0, 'верификацию'), (0.0, 'великобритании'), (0.0, 'важный'), (0.0, 'была'), (0.0, 'будущей'), (0.0, 'ботами'), (0.0, 'борьбы'), (0.0, 'большинство'), (0.0, 'более'), (0.0, 'аудио'), (0.0, 'аналогичным'), (0.0, 'аналогичной'), (0.0, 'аналитиков'), (0.0, 'аналитики'), (0.0, 'аналитиками'), (0.0, 'активных'), (0.0, 'аккаунтов'), (0.0, 'австралии'), (0.0, 'августом'), (0.0, 'августе'), (0.0, 'tower'), (0.0, 'the'), (0.0, 'similarweb'), (0.0, 'sensor'), (0.0, 'information'), (0.0, 'com'), (0.0, 'arstechnica'), (0.0, 'ads'), (0.0, '5000'), (0.0, '27'), (0.0, '250'), (0.0, '245'), (0.0, '2023'), (0.0, '19'), (0.0, '17'), (0.0, '16'), (0.0, '1500'), (0.0, '14'), (0.0, '13'), (0.0, '11')]\n"
          ]
        }
      ]
    },
    {
      "cell_type": "code",
      "source": [
        "def get_tf_idf(documents):\n",
        "    documents = ' '.join(documents)\n",
        "\n",
        "    # Создание объекта TfidfVectorizer\n",
        "    tfidf_vectorizer = TfidfVectorizer()\n",
        "\n",
        "    # Применение TF-IDF к текстовым данным\n",
        "    tfidf_matrix = tfidf_vectorizer.fit_transform([documents])\n",
        "\n",
        "    # Получение списка ключевых слов и их значения TF-IDF для первого документа\n",
        "    feature_names = tfidf_vectorizer.get_feature_names_out()\n",
        "    tfidf_scores = tfidf_matrix.toarray()[0]\n",
        "\n",
        "    # Сортировка слов по значениям TF-IDF\n",
        "    sorted_keywords = sorted(zip(tfidf_scores, feature_names), reverse=True)\n",
        "\n",
        "    return sorted_keywords"
      ],
      "metadata": {
        "id": "hdy0EPwoj3gx"
      },
      "execution_count": 236,
      "outputs": []
    },
    {
      "cell_type": "code",
      "source": [
        "# одни из ключевых слов \"на\", \"что\" и \"по\". Очевидно, что нужно удалять стоп-слова\n",
        "sorted_keywords = get_tf_idf(documents)\n",
        "print(sorted_keywords)"
      ],
      "metadata": {
        "colab": {
          "base_uri": "https://localhost:8080/"
        },
        "id": "PdCANeJikFbj",
        "outputId": "e99cfe4f-761e-4fc4-d0f6-2a82bd5c0186"
      },
      "execution_count": 237,
      "outputs": [
        {
          "output_type": "stream",
          "name": "stdout",
          "text": [
            "[(0.4187628431947845, 'на'), (0.22841609628806428, 'что'), (0.22841609628806428, 'года'), (0.22841609628806428, 'twitter'), (0.19034674690672024, 'пользователей'), (0.1522773975253762, 'по'), (0.1522773975253762, 'минус'), (0.1522773975253762, 'маск'), (0.1522773975253762, 'компании'), (0.1522773975253762, 'как'), (0.11420804814403214, 'трафик'), (0.11420804814403214, 'снизился'), (0.11420804814403214, 'он'), (0.11420804814403214, 'октября'), (0.11420804814403214, 'за'), (0.11420804814403214, 'com'), (0.11420804814403214, '2022'), (0.0761386987626881, 'также'), (0.0761386987626881, 'сравнению'), (0.0761386987626881, 'снизилось'), (0.0761386987626881, 'себя'), (0.0761386987626881, 'примерно'), (0.0761386987626881, 'после'), (0.0761386987626881, 'покупки'), (0.0761386987626881, 'платформа'), (0.0761386987626881, 'падение'), (0.0761386987626881, 'около'), (0.0761386987626881, 'не'), (0.0761386987626881, 'заявил'), (0.0761386987626881, 'ещё'), (0.0761386987626881, 'ежедневных'), (0.0761386987626881, 'для'), (0.0761386987626881, 'данные'), (0.0761386987626881, 'год'), (0.0761386987626881, 'более'), (0.0761386987626881, 'аналитики'), (0.0761386987626881, 'активных'), (0.0761386987626881, 'tower'), (0.0761386987626881, 'sensor'), (0.0761386987626881, '17'), (0.0761386987626881, '13'), (0.03806934938134405, 'ясный'), (0.03806934938134405, 'штата'), (0.03806934938134405, 'шаги'), (0.03806934938134405, 'чуть'), (0.03806934938134405, 'число'), (0.03806934938134405, 'числе'), (0.03806934938134405, 'числа'), (0.03806934938134405, 'четверти'), (0.03806934938134405, 'чем'), (0.03806934938134405, 'человек'), (0.03806934938134405, 'частной'), (0.03806934938134405, 'цифровых'), (0.03806934938134405, 'хотя'), (0.03806934938134405, 'франции'), (0.03806934938134405, 'фирма'), (0.03806934938134405, 'финансовом'), (0.03806934938134405, 'утверждают'), (0.03806934938134405, 'управление'), (0.03806934938134405, 'упало'), (0.03806934938134405, 'упадке'), (0.03806934938134405, 'уволил'), (0.03806934938134405, 'трудный'), (0.03806934938134405, 'трети'), (0.03806934938134405, 'трафика'), (0.03806934938134405, 'топ'), (0.03806934938134405, 'того'), (0.03806934938134405, 'течение'), (0.03806934938134405, 'тенденция'), (0.03806934938134405, 'тем'), (0.03806934938134405, 'такие'), (0.03806934938134405, 'так'), (0.03806934938134405, 'сша'), (0.03806934938134405, 'считают'), (0.03806934938134405, 'считает'), (0.03806934938134405, 'странах'), (0.03806934938134405, 'сторонние'), (0.03806934938134405, 'столь'), (0.03806934938134405, 'сталкивается'), (0.03806934938134405, 'сразу'), (0.03806934938134405, 'спорные'), (0.03806934938134405, 'соцсеть'), (0.03806934938134405, 'соцсети'), (0.03806934938134405, 'сотрудников'), (0.03806934938134405, 'сотрудникам'), (0.03806934938134405, 'состоянии'), (0.03806934938134405, 'составило'), (0.03806934938134405, 'сопровождается'), (0.03806934938134405, 'сообщила'), (0.03806934938134405, 'сокращения'), (0.03806934938134405, 'сокращением'), (0.03806934938134405, 'сокращение'), (0.03806934938134405, 'сми'), (0.03806934938134405, 'слитые'), (0.03806934938134405, 'следующих'), (0.03806934938134405, 'сентябрьский'), (0.03806934938134405, 'сентябре'), (0.03806934938134405, 'сейчас'), (0.03806934938134405, 'сделал'), (0.03806934938134405, 'своём'), (0.03806934938134405, 'ряда'), (0.03806934938134405, 'ряд'), (0.03806934938134405, 'решений'), (0.03806934938134405, 'рекламодателей'), (0.03806934938134405, 'ребрендинг'), (0.03806934938134405, 'путь'), (0.03806934938134405, 'прошлой'), (0.03806934938134405, 'прошлого'), (0.03806934938134405, 'прошедший'), (0.03806934938134405, 'прошедшего'), (0.03806934938134405, 'процентов'), (0.03806934938134405, 'проведённого'), (0.03806934938134405, 'приходится'), (0.03806934938134405, 'приложение'), (0.03806934938134405, 'приводят'), (0.03806934938134405, 'предоставлять'), (0.03806934938134405, 'превратить'), (0.03806934938134405, 'пострадала'), (0.03806934938134405, 'попробовали'), (0.03806934938134405, 'показатель'), (0.03806934938134405, 'позже'), (0.03806934938134405, 'подробные'), (0.03806934938134405, 'подвести'), (0.03806934938134405, 'платы'), (0.03806934938134405, 'платформу'), (0.03806934938134405, 'платежей'), (0.03806934938134405, 'планах'), (0.03806934938134405, 'периодом'), (0.03806934938134405, 'перестала'), (0.03806934938134405, 'параметрам'), (0.03806934938134405, 'оценке'), (0.03806934938134405, 'официально'), (0.03806934938134405, 'отчёты'), (0.03806934938134405, 'отчёте'), (0.03806934938134405, 'отпугнули'), (0.03806934938134405, 'относительно'), (0.03806934938134405, 'отмечает'), (0.03806934938134405, 'откуда'), (0.03806934938134405, 'открытые'), (0.03806934938134405, 'от'), (0.03806934938134405, 'оставшись'), (0.03806934938134405, 'ориентируясь'), (0.03806934938134405, 'опубликованном'), (0.03806934938134405, 'они'), (0.03806934938134405, 'она'), (0.03806934938134405, 'однако'), (0.03806934938134405, 'одна'), (0.03806934938134405, 'огромной'), (0.03806934938134405, 'ныне'), (0.03806934938134405, 'но'), (0.03806934938134405, 'несмотря'), (0.03806934938134405, 'неожиданный'), (0.03806934938134405, 'необдуманных'), (0.03806934938134405, 'немного'), (0.03806934938134405, 'немедленно'), (0.03806934938134405, 'недель'), (0.03806934938134405, 'неделе'), (0.03806934938134405, 'небольшой'), (0.03806934938134405, 'начале'), (0.03806934938134405, 'находится'), (0.03806934938134405, 'намерении'), (0.03806934938134405, 'момента'), (0.03806934938134405, 'модераторов'), (0.03806934938134405, 'многих'), (0.03806934938134405, 'мнению'), (0.03806934938134405, 'млрд'), (0.03806934938134405, 'миллионов'), (0.03806934938134405, 'менее'), (0.03806934938134405, 'менеджмент'), (0.03806934938134405, 'массовые'), (0.03806934938134405, 'маском'), (0.03806934938134405, 'купил'), (0.03806934938134405, 'конце'), (0.03806934938134405, 'конкуренцией'), (0.03806934938134405, 'компанию'), (0.03806934938134405, 'компанией'), (0.03806934938134405, 'командой'), (0.03806934938134405, 'команд'), (0.03806934938134405, 'количество'), (0.03806934938134405, 'итоги'), (0.03806934938134405, 'исследовательская'), (0.03806934938134405, 'использование'), (0.03806934938134405, 'илон'), (0.03806934938134405, 'или'), (0.03806934938134405, 'из'), (0.03806934938134405, 'жёсткой'), (0.03806934938134405, 'других'), (0.03806934938134405, 'другие'), (0.03806934938134405, 'до'), (0.03806934938134405, 'две'), (0.03806934938134405, 'гораздо'), (0.03806934938134405, 'говорится'), (0.03806934938134405, 'глобальный'), (0.03806934938134405, 'германии'), (0.03806934938134405, 'выраженной'), (0.03806934938134405, 'всем'), (0.03806934938134405, 'всего'), (0.03806934938134405, 'времени'), (0.03806934938134405, 'во'), (0.03806934938134405, 'вместе'), (0.03806934938134405, 'включающее'), (0.03806934938134405, 'видит'), (0.03806934938134405, 'видеозвонки'), (0.03806934938134405, 'взял'), (0.03806934938134405, 'взимание'), (0.03806934938134405, 'весь'), (0.03806934938134405, 'верификацию'), (0.03806934938134405, 'великобритании'), (0.03806934938134405, 'важный'), (0.03806934938134405, 'была'), (0.03806934938134405, 'будущей'), (0.03806934938134405, 'ботами'), (0.03806934938134405, 'борьбы'), (0.03806934938134405, 'большинство'), (0.03806934938134405, 'аудио'), (0.03806934938134405, 'аналогичным'), (0.03806934938134405, 'аналогичной'), (0.03806934938134405, 'аналитиков'), (0.03806934938134405, 'аналитиками'), (0.03806934938134405, 'аккаунтов'), (0.03806934938134405, 'австралии'), (0.03806934938134405, 'августом'), (0.03806934938134405, 'августе'), (0.03806934938134405, 'the'), (0.03806934938134405, 'similarweb'), (0.03806934938134405, 'information'), (0.03806934938134405, 'arstechnica'), (0.03806934938134405, 'ads'), (0.03806934938134405, '5000'), (0.03806934938134405, '27'), (0.03806934938134405, '250'), (0.03806934938134405, '245'), (0.03806934938134405, '2023'), (0.03806934938134405, '19'), (0.03806934938134405, '16'), (0.03806934938134405, '1500'), (0.03806934938134405, '14'), (0.03806934938134405, '11')]\n"
          ]
        }
      ]
    },
    {
      "cell_type": "markdown",
      "source": [
        "# Задание 12"
      ],
      "metadata": {
        "id": "u9MevAU-cBKx"
      }
    },
    {
      "cell_type": "code",
      "source": [
        "import re"
      ],
      "metadata": {
        "id": "kz_8g3HVdEHo"
      },
      "execution_count": 177,
      "outputs": []
    },
    {
      "cell_type": "code",
      "source": [
        "# получение реферата одной функцией\n",
        "def get_summary(input : str, compr_rate : int = 0.1) -> str:\n",
        "    # Получаю текст из файла, он там не структурирован\n",
        "    f = open(input, 'r', encoding='utf-8')\n",
        "    text = f.read()\n",
        "\n",
        "    # Заменяю переносы строки на пробелы и привожу к нижнему регистру\n",
        "    text = text.replace('\\n', ' ')\n",
        "    # Разбиваю текст на предложения, получилось почти идеально\n",
        "    # Только последнее предложение неправильно определилось из-за иницалов\n",
        "    origin_sentences = re.split(\"\\. |! |\\? |… \", text) # оригинальные предложения нужны для вывода\n",
        "    sentences = re.split(\"\\. |! |\\? |… \", text.lower()[:-1])\n",
        "    # Удаляю лишние пробелы в начале и в конце строки\n",
        "    sentences = [s.strip() for s in sentences]\n",
        "    prepared_sentences = []\n",
        "\n",
        "    for sentence in sentences:\n",
        "        # удаляю пунктуацию\n",
        "        sentence = replace_chars_in_text(sentence, spec_chars, '')\n",
        "\n",
        "        # токенизирую\n",
        "        text_tokens = word_tokenize(sentence)\n",
        "\n",
        "        # нормализую слова\n",
        "        morph = pymorphy2.MorphAnalyzer()\n",
        "\n",
        "        for i in range(len(text_tokens)):\n",
        "            text_tokens[i] = morph.parse(text_tokens[i])[0].normal_form\n",
        "\n",
        "        # удаляю из текста стоп-слова\n",
        "        russian_stopwords = stopwords.words(\"russian\")\n",
        "        text_tokens = [word for word in text_tokens if not word in russian_stopwords]\n",
        "\n",
        "        prepared_sentences.append(' '.join(text_tokens))\n",
        "\n",
        "    tf_idf_metrics = get_tf_idf(prepared_sentences)\n",
        "    d_metrics = {}\n",
        "\n",
        "    for pair in tf_idf_metrics:\n",
        "        d_metrics[pair[1]] = pair[0]\n",
        "\n",
        "    # вычисляю весы предложений, предложения идут по порядку\n",
        "    # первому предложению в исходном тексте соотв первая запись в массиве\n",
        "    sentences_tf_idf = {}\n",
        "    i = -1\n",
        "\n",
        "    for sentence in prepared_sentences:\n",
        "        val = 0\n",
        "        i += 1\n",
        "        words = sentence.split()\n",
        "\n",
        "        for word in words:\n",
        "            if word in d_metrics:\n",
        "                val += d_metrics[word]\n",
        "\n",
        "        sentences_tf_idf[i] = val\n",
        "\n",
        "    sentences_tf_idf_sorted = sorted(sentences_tf_idf.items(), key=lambda x:x[1], reverse=True)\n",
        "    summary_sentence_count = round(len(sentences_tf_idf) * compr_rate)\n",
        "    sentence_ids = sorted([x[0] for x in sentences_tf_idf_sorted[:summary_sentence_count]])\n",
        "\n",
        "    summary = \"\"\n",
        "\n",
        "    for i in sentence_ids:\n",
        "        summary += origin_sentences[i] + '. '\n",
        "\n",
        "    return summary"
      ],
      "metadata": {
        "id": "2eBwoP_OychE"
      },
      "execution_count": 320,
      "outputs": []
    },
    {
      "cell_type": "code",
      "source": [
        "print(get_summary('input12.txt', 0.1))"
      ],
      "metadata": {
        "colab": {
          "base_uri": "https://localhost:8080/"
        },
        "id": "J881kaP1zzak",
        "outputId": "937d0cd0-ffba-402d-e88b-44bf86795c1c"
      },
      "execution_count": 316,
      "outputs": [
        {
          "output_type": "stream",
          "name": "stdout",
          "text": [
            "Как отмечает ArsTechnica, после того как Маск сделал компанию частной, она перестала предоставлять подробные отчёты о своём финансовом состоянии и числе пользователей, однако сторонние аналитики, ориентируясь на открытые и слитые данные, считают, что платформа находится в упадке. На этой неделе газета Business Insider сообщила, что «подавляющее большинство рекламодателей с крупнейшими расходами в мире приостановили публикацию рекламу на X после приобретения компании Илоном Маском». В отчёте Media Matters for America сообщается, что Visa, один из крупнейших рекламодателей X, потратила на платформе всего $10 за несколько недель, предшествовавших комментариям Яккарино, по сравнению с $77 500 за несколько недель до того, как Маск купил компанию. \n"
          ]
        }
      ]
    },
    {
      "cell_type": "code",
      "source": [
        "def write_to_file(output, result):\n",
        "    # формирую файл со результатом\n",
        "    with open(output, 'w', encoding='utf-8') as f:\n",
        "        f.write(result)"
      ],
      "metadata": {
        "id": "NiLaR2E4z-l4"
      },
      "execution_count": 318,
      "outputs": []
    },
    {
      "cell_type": "code",
      "source": [
        "write_to_file('output12.txt', get_summary('input12.txt', 0.1))"
      ],
      "metadata": {
        "id": "QBMvgBaV0gYQ"
      },
      "execution_count": 319,
      "outputs": []
    },
    {
      "cell_type": "code",
      "source": [
        "# Получаю текст из файла, он там не структурирован\n",
        "input_path12 = 'input12.txt'\n",
        "f = open(input_path12, 'r', encoding='utf-8')\n",
        "text = f.read()\n",
        "text"
      ],
      "metadata": {
        "colab": {
          "base_uri": "https://localhost:8080/",
          "height": 87
        },
        "id": "t2__QZnYcEbX",
        "outputId": "fc962011-6eed-40b7-aaf6-e0ec77d479a4"
      },
      "execution_count": 291,
      "outputs": [
        {
          "output_type": "execute_result",
          "data": {
            "text/plain": [
              "'В конце октября 2022 года Илон Маск купил соцсеть Twitter, ныне X. Ряд СМИ вместе с аналитиками попробовали подвести итоги прошедшего года.\\n27 октября 2022 года Маск официально взял на себя управление компанией. Он немедленно уволил весь топ-менеджмент Twitter, а в течение следующих недель ещё около 5000 человек, или примерно две трети штата компании, оставшись с относительно небольшой командой в примерно 1500 сотрудников. Сразу после покупки компании Маск заявил о планах жёсткой борьбы с ботами, а чуть позже — о намерении превратить Twitter в «приложение для всего», включающее в себя платформу цифровых платежей, а также аудио- и видеозвонки. Он заявил сотрудникам, что, несмотря на массовые сокращения, он видит «ясный, но трудный путь» к будущей оценке компании в более чем $250 млрд.\\nТем не менее, как считает большинство аналитиков, за прошедший год платформа пострадала от ряда необдуманных решений и сейчас сталкивается с огромной конкуренцией. Как отмечает ArsTechnica, после того как Маск сделал компанию частной, она перестала предоставлять подробные отчёты о своём финансовом состоянии и числе пользователей, однако сторонние аналитики, ориентируясь на открытые и слитые данные, считают, что платформа находится в упадке.\\nТак, в отчёте The Information, опубликованном в начале октября, говорится, что с момента покупки Маском компании «количество ежедневных активных пользователей X упало на 3,7%до 245 миллионов». Многих пользователей отпугнули спорные шаги, такие как сокращение команд модераторов, взимание платы за верификацию аккаунтов и неожиданный ребрендинг. \\nНемного другие данные приводят аналитики из Sensor Tower. Они утверждают, что число ежедневных активных пользователей X в августе 2023 года снизилось на 9% процентов по сравнению с августом 2022 года. Падение числа пользователей сопровождается также сокращением времени, проведённого в соцсети (падение составило 13%), что, по мнению Sensor Tower, гораздо более важный показатель. \\nЕщё одна исследовательская фирма Similarweb сообщила на прошлой неделе, что за год использование X «снизилось по всем параметрам».\\n«В сентябре глобальный трафик на twitter.com снизился на 14% по сравнению с аналогичным периодом прошлого года, а трафик на Ads.twitter.com для рекламодателей снизился на 16,5%. В США, откуда приходится около четверти трафика twitter.com, сентябрьский трафик снизился на 19%. Тенденция была аналогичной, хотя и не столь выраженной, в других странах: минус 11,6% в Великобритании, минус 13,4% во Франции, минус 17,9% в Германии и минус 17,5% в Австралии».\\nСокращение количества ежедневных пользователей и времени, проведённого в соцсети, затмевается сокращением рекламы, основного источника доходов компании, несмотря на попытки Маска увеличить доходы от подписки. Проблемы с рекламой, вероятно, повлияли на снижение общей стоимости X, которую Fidelity оценила в апреле в $15 млрд, или треть того, что заплатил Маск.\\nНа этой неделе газета Business Insider сообщила, что «подавляющее большинство рекламодателей с крупнейшими расходами в мире приостановили публикацию рекламу на X после приобретения компании Илоном Маском». В материале приводятся данные Ebiquity, маркетинговой консалтинговой фирмы, которая работает с 70 из 100 рекламодателей с наибольшими расходами. Ebiquity «заявила, что только два её клиента купили рекламу на X в прошлом месяце» по сравнению с 31 брендом в сентябре 2022 года.\\nВ четверг генеральный директор платформы Линда Яккарино написала, что «с середины мая все крупные агентства отменили свои рекомендации по приостановке рекламы на X», а в прошлом месяце она сообщила о возвращении «90% из 100 крупнейших рекламодателей. Однако, как подчёркивают аналитики, возвращение не означает расходов на прежнем уровне. В отчёте Media Matters for America сообщается, что Visa, один из крупнейших рекламодателей X, потратила на платформе всего $10 за несколько недель, предшествовавших комментариям Яккарино, по сравнению с $77 500 за несколько недель до того, как Маск купил компанию.  \\n«Многие из ведущих рекламодателей X, такие как Mondelez International, Coca-Cola, IBM и HBO, тратят меньше, чем до того, как Маск пришёл к власти, во многом из-за реализуемой им политики, которая сделала сервис хаотичным и непредсказуемым», — пишет Bloomberg.\\nArsTechnica отмечает, что некоторые крупные акционеры Tesla жалеют, что Маск купил Twitter, и жалуются, что проблемы платформы, похоже, мешают ему должным образом управлять остальными предприятиями. Независимо от того, жалеет ли сам Маск о покупке, первый год владения компанией был весьма бурным. Как написал старший менеджер Likeweb Дэвид Ф. Карр, «решение Маска приобрести Twitter, похоже, было одной из крупнейших импульсивных покупок в истории».'"
            ],
            "application/vnd.google.colaboratory.intrinsic+json": {
              "type": "string"
            }
          },
          "metadata": {},
          "execution_count": 291
        }
      ]
    },
    {
      "cell_type": "code",
      "source": [
        "# Заменяю переносы строки на пробелы и привожу к нижнему регистру\n",
        "text = text.replace('\\n', ' ')\n",
        "text"
      ],
      "metadata": {
        "colab": {
          "base_uri": "https://localhost:8080/",
          "height": 87
        },
        "id": "Ar84mCc7gTz3",
        "outputId": "8d9cfbdd-f91e-4bd9-cda5-5a41c2e030cc"
      },
      "execution_count": 292,
      "outputs": [
        {
          "output_type": "execute_result",
          "data": {
            "text/plain": [
              "'В конце октября 2022 года Илон Маск купил соцсеть Twitter, ныне X. Ряд СМИ вместе с аналитиками попробовали подвести итоги прошедшего года. 27 октября 2022 года Маск официально взял на себя управление компанией. Он немедленно уволил весь топ-менеджмент Twitter, а в течение следующих недель ещё около 5000 человек, или примерно две трети штата компании, оставшись с относительно небольшой командой в примерно 1500 сотрудников. Сразу после покупки компании Маск заявил о планах жёсткой борьбы с ботами, а чуть позже — о намерении превратить Twitter в «приложение для всего», включающее в себя платформу цифровых платежей, а также аудио- и видеозвонки. Он заявил сотрудникам, что, несмотря на массовые сокращения, он видит «ясный, но трудный путь» к будущей оценке компании в более чем $250 млрд. Тем не менее, как считает большинство аналитиков, за прошедший год платформа пострадала от ряда необдуманных решений и сейчас сталкивается с огромной конкуренцией. Как отмечает ArsTechnica, после того как Маск сделал компанию частной, она перестала предоставлять подробные отчёты о своём финансовом состоянии и числе пользователей, однако сторонние аналитики, ориентируясь на открытые и слитые данные, считают, что платформа находится в упадке. Так, в отчёте The Information, опубликованном в начале октября, говорится, что с момента покупки Маском компании «количество ежедневных активных пользователей X упало на 3,7%до 245 миллионов». Многих пользователей отпугнули спорные шаги, такие как сокращение команд модераторов, взимание платы за верификацию аккаунтов и неожиданный ребрендинг.  Немного другие данные приводят аналитики из Sensor Tower. Они утверждают, что число ежедневных активных пользователей X в августе 2023 года снизилось на 9% процентов по сравнению с августом 2022 года. Падение числа пользователей сопровождается также сокращением времени, проведённого в соцсети (падение составило 13%), что, по мнению Sensor Tower, гораздо более важный показатель.  Ещё одна исследовательская фирма Similarweb сообщила на прошлой неделе, что за год использование X «снизилось по всем параметрам». «В сентябре глобальный трафик на twitter.com снизился на 14% по сравнению с аналогичным периодом прошлого года, а трафик на Ads.twitter.com для рекламодателей снизился на 16,5%. В США, откуда приходится около четверти трафика twitter.com, сентябрьский трафик снизился на 19%. Тенденция была аналогичной, хотя и не столь выраженной, в других странах: минус 11,6% в Великобритании, минус 13,4% во Франции, минус 17,9% в Германии и минус 17,5% в Австралии». Сокращение количества ежедневных пользователей и времени, проведённого в соцсети, затмевается сокращением рекламы, основного источника доходов компании, несмотря на попытки Маска увеличить доходы от подписки. Проблемы с рекламой, вероятно, повлияли на снижение общей стоимости X, которую Fidelity оценила в апреле в $15 млрд, или треть того, что заплатил Маск. На этой неделе газета Business Insider сообщила, что «подавляющее большинство рекламодателей с крупнейшими расходами в мире приостановили публикацию рекламу на X после приобретения компании Илоном Маском». В материале приводятся данные Ebiquity, маркетинговой консалтинговой фирмы, которая работает с 70 из 100 рекламодателей с наибольшими расходами. Ebiquity «заявила, что только два её клиента купили рекламу на X в прошлом месяце» по сравнению с 31 брендом в сентябре 2022 года. В четверг генеральный директор платформы Линда Яккарино написала, что «с середины мая все крупные агентства отменили свои рекомендации по приостановке рекламы на X», а в прошлом месяце она сообщила о возвращении «90% из 100 крупнейших рекламодателей. Однако, как подчёркивают аналитики, возвращение не означает расходов на прежнем уровне. В отчёте Media Matters for America сообщается, что Visa, один из крупнейших рекламодателей X, потратила на платформе всего $10 за несколько недель, предшествовавших комментариям Яккарино, по сравнению с $77 500 за несколько недель до того, как Маск купил компанию.   «Многие из ведущих рекламодателей X, такие как Mondelez International, Coca-Cola, IBM и HBO, тратят меньше, чем до того, как Маск пришёл к власти, во многом из-за реализуемой им политики, которая сделала сервис хаотичным и непредсказуемым», — пишет Bloomberg. ArsTechnica отмечает, что некоторые крупные акционеры Tesla жалеют, что Маск купил Twitter, и жалуются, что проблемы платформы, похоже, мешают ему должным образом управлять остальными предприятиями. Независимо от того, жалеет ли сам Маск о покупке, первый год владения компанией был весьма бурным. Как написал старший менеджер Likeweb Дэвид Ф. Карр, «решение Маска приобрести Twitter, похоже, было одной из крупнейших импульсивных покупок в истории».'"
            ],
            "application/vnd.google.colaboratory.intrinsic+json": {
              "type": "string"
            }
          },
          "metadata": {},
          "execution_count": 292
        }
      ]
    },
    {
      "cell_type": "code",
      "source": [
        "# Разбиваю текст на предложения, получилось почти идеально\n",
        "# Только последнее предложение неправильно определилось из-за иницалов\n",
        "origin_sentences = re.split(\"\\. |! |\\? |… \", text) # оригинальные предложения нужны для вывода\n",
        "sentences = re.split(\"\\. |! |\\? |… \", text.lower()[:-1])\n",
        "# Удаляю лишние пробелы в начале и в конце строки\n",
        "sentences = [s.strip() for s in sentences]\n",
        "sentences"
      ],
      "metadata": {
        "colab": {
          "base_uri": "https://localhost:8080/"
        },
        "id": "5WPDQN0wdt7w",
        "outputId": "aef10143-d981-4db3-e91d-3922431e9feb"
      },
      "execution_count": 309,
      "outputs": [
        {
          "output_type": "execute_result",
          "data": {
            "text/plain": [
              "['в конце октября 2022 года илон маск купил соцсеть twitter, ныне x',\n",
              " 'ряд сми вместе с аналитиками попробовали подвести итоги прошедшего года',\n",
              " '27 октября 2022 года маск официально взял на себя управление компанией',\n",
              " 'он немедленно уволил весь топ-менеджмент twitter, а в течение следующих недель ещё около 5000 человек, или примерно две трети штата компании, оставшись с относительно небольшой командой в примерно 1500 сотрудников',\n",
              " 'сразу после покупки компании маск заявил о планах жёсткой борьбы с ботами, а чуть позже — о намерении превратить twitter в «приложение для всего», включающее в себя платформу цифровых платежей, а также аудио- и видеозвонки',\n",
              " 'он заявил сотрудникам, что, несмотря на массовые сокращения, он видит «ясный, но трудный путь» к будущей оценке компании в более чем $250 млрд',\n",
              " 'тем не менее, как считает большинство аналитиков, за прошедший год платформа пострадала от ряда необдуманных решений и сейчас сталкивается с огромной конкуренцией',\n",
              " 'как отмечает arstechnica, после того как маск сделал компанию частной, она перестала предоставлять подробные отчёты о своём финансовом состоянии и числе пользователей, однако сторонние аналитики, ориентируясь на открытые и слитые данные, считают, что платформа находится в упадке',\n",
              " 'так, в отчёте the information, опубликованном в начале октября, говорится, что с момента покупки маском компании «количество ежедневных активных пользователей x упало на 3,7%до 245 миллионов»',\n",
              " 'многих пользователей отпугнули спорные шаги, такие как сокращение команд модераторов, взимание платы за верификацию аккаунтов и неожиданный ребрендинг',\n",
              " 'немного другие данные приводят аналитики из sensor tower',\n",
              " 'они утверждают, что число ежедневных активных пользователей x в августе 2023 года снизилось на 9% процентов по сравнению с августом 2022 года',\n",
              " 'падение числа пользователей сопровождается также сокращением времени, проведённого в соцсети (падение составило 13%), что, по мнению sensor tower, гораздо более важный показатель',\n",
              " 'ещё одна исследовательская фирма similarweb сообщила на прошлой неделе, что за год использование x «снизилось по всем параметрам»',\n",
              " '«в сентябре глобальный трафик на twitter.com снизился на 14% по сравнению с аналогичным периодом прошлого года, а трафик на ads.twitter.com для рекламодателей снизился на 16,5%',\n",
              " 'в сша, откуда приходится около четверти трафика twitter.com, сентябрьский трафик снизился на 19%',\n",
              " 'тенденция была аналогичной, хотя и не столь выраженной, в других странах: минус 11,6% в великобритании, минус 13,4% во франции, минус 17,9% в германии и минус 17,5% в австралии»',\n",
              " 'сокращение количества ежедневных пользователей и времени, проведённого в соцсети, затмевается сокращением рекламы, основного источника доходов компании, несмотря на попытки маска увеличить доходы от подписки',\n",
              " 'проблемы с рекламой, вероятно, повлияли на снижение общей стоимости x, которую fidelity оценила в апреле в $15 млрд, или треть того, что заплатил маск',\n",
              " 'на этой неделе газета business insider сообщила, что «подавляющее большинство рекламодателей с крупнейшими расходами в мире приостановили публикацию рекламу на x после приобретения компании илоном маском»',\n",
              " 'в материале приводятся данные ebiquity, маркетинговой консалтинговой фирмы, которая работает с 70 из 100 рекламодателей с наибольшими расходами',\n",
              " 'ebiquity «заявила, что только два её клиента купили рекламу на x в прошлом месяце» по сравнению с 31 брендом в сентябре 2022 года',\n",
              " 'в четверг генеральный директор платформы линда яккарино написала, что «с середины мая все крупные агентства отменили свои рекомендации по приостановке рекламы на x», а в прошлом месяце она сообщила о возвращении «90% из 100 крупнейших рекламодателей',\n",
              " 'однако, как подчёркивают аналитики, возвращение не означает расходов на прежнем уровне',\n",
              " 'в отчёте media matters for america сообщается, что visa, один из крупнейших рекламодателей x, потратила на платформе всего $10 за несколько недель, предшествовавших комментариям яккарино, по сравнению с $77 500 за несколько недель до того, как маск купил компанию',\n",
              " '«многие из ведущих рекламодателей x, такие как mondelez international, coca-cola, ibm и hbo, тратят меньше, чем до того, как маск пришёл к власти, во многом из-за реализуемой им политики, которая сделала сервис хаотичным и непредсказуемым», — пишет bloomberg',\n",
              " 'arstechnica отмечает, что некоторые крупные акционеры tesla жалеют, что маск купил twitter, и жалуются, что проблемы платформы, похоже, мешают ему должным образом управлять остальными предприятиями',\n",
              " 'независимо от того, жалеет ли сам маск о покупке, первый год владения компанией был весьма бурным',\n",
              " 'как написал старший менеджер likeweb дэвид ф',\n",
              " 'карр, «решение маска приобрести twitter, похоже, было одной из крупнейших импульсивных покупок в истории»']"
            ]
          },
          "metadata": {},
          "execution_count": 309
        }
      ]
    },
    {
      "cell_type": "code",
      "source": [
        "prepared_sentences = []\n",
        "\n",
        "for sentence in sentences:\n",
        "    # удаляю пунктуацию\n",
        "    sentence = replace_chars_in_text(sentence, spec_chars, '')\n",
        "\n",
        "    # токенизирую\n",
        "    text_tokens = word_tokenize(sentence)\n",
        "\n",
        "     # нормализую слова\n",
        "    morph = pymorphy2.MorphAnalyzer()\n",
        "\n",
        "    for i in range(len(text_tokens)):\n",
        "        text_tokens[i] = morph.parse(text_tokens[i])[0].normal_form\n",
        "\n",
        "    # удаляю из текста стоп-слова\n",
        "    russian_stopwords = stopwords.words(\"russian\")\n",
        "    text_tokens = [word for word in text_tokens if not word in russian_stopwords]\n",
        "\n",
        "    prepared_sentences.append(' '.join(text_tokens))\n",
        ""
      ],
      "metadata": {
        "id": "paHbs5E0izTW"
      },
      "execution_count": 294,
      "outputs": []
    },
    {
      "cell_type": "code",
      "source": [
        "prepared_sentences[0]"
      ],
      "metadata": {
        "colab": {
          "base_uri": "https://localhost:8080/",
          "height": 35
        },
        "id": "RXpy48JqgxVA",
        "outputId": "d401f454-027e-4b3b-acfc-b99b8cd156f9"
      },
      "execution_count": 295,
      "outputs": [
        {
          "output_type": "execute_result",
          "data": {
            "text/plain": [
              "'конец октябрь 2022 год илона маск купить соцсеть twitter ныне x'"
            ],
            "application/vnd.google.colaboratory.intrinsic+json": {
              "type": "string"
            }
          },
          "metadata": {},
          "execution_count": 295
        }
      ]
    },
    {
      "cell_type": "code",
      "source": [
        "tf_idf_metrics = get_tf_idf(prepared_sentences)\n",
        "print(tf_idf_metrics)"
      ],
      "metadata": {
        "colab": {
          "base_uri": "https://localhost:8080/"
        },
        "id": "mxfPMbMqkiVK",
        "outputId": "0d6a837b-17a4-4150-85b5-4379c8141284"
      },
      "execution_count": 296,
      "outputs": [
        {
          "output_type": "stream",
          "name": "stdout",
          "text": [
            "[(0.31377384796182123, 'маск'), (0.28524895269256473, 'компания'), (0.28524895269256473, 'год'), (0.17114937161553884, 'рекламодатель'), (0.17114937161553884, 'пользователь'), (0.17114937161553884, 'платформа'), (0.17114937161553884, 'крупный'), (0.14262447634628236, 'сокращение'), (0.14262447634628236, 'снизиться'), (0.14262447634628236, 'реклама'), (0.14262447634628236, 'неделя'), (0.14262447634628236, 'аналитик'), (0.14262447634628236, 'twitter'), (0.11409958107702589, 'трафик'), (0.11409958107702589, 'сравнение'), (0.11409958107702589, 'покупка'), (0.11409958107702589, 'минус'), (0.11409958107702589, 'купить'), (0.11409958107702589, 'весь'), (0.11409958107702589, '2022'), (0.08557468580776942, 'число'), (0.08557468580776942, 'соцсеть'), (0.08557468580776942, 'сообщить'), (0.08557468580776942, 'расход'), (0.08557468580776942, 'прошлый'), (0.08557468580776942, 'отчёт'), (0.08557468580776942, 'октябрь'), (0.08557468580776942, 'который'), (0.08557468580776942, 'заявить'), (0.08557468580776942, 'ежедневный'), (0.08557468580776942, 'дать'), (0.057049790538512946, 'яккарино'), (0.057049790538512946, 'фирма'), (0.057049790538512946, 'треть'), (0.057049790538512946, 'также'), (0.057049790538512946, 'считать'), (0.057049790538512946, 'сотрудник'), (0.057049790538512946, 'сентябрь'), (0.057049790538512946, 'сделать'), (0.057049790538512946, 'свой'), (0.057049790538512946, 'ряд'), (0.057049790538512946, 'решение'), (0.057049790538512946, 'провести'), (0.057049790538512946, 'проблема'), (0.057049790538512946, 'примерно'), (0.057049790538512946, 'похоже'), (0.057049790538512946, 'падение'), (0.057049790538512946, 'отмечать'), (0.057049790538512946, 'около'), (0.057049790538512946, 'однако'), (0.057049790538512946, 'несмотря'), (0.057049790538512946, 'несколько'), (0.057049790538512946, 'написать'), (0.057049790538512946, 'млрд'), (0.057049790538512946, 'месяц'), (0.057049790538512946, 'маска'), (0.057049790538512946, 'команда'), (0.057049790538512946, 'количество'), (0.057049790538512946, 'жалеть'), (0.057049790538512946, 'ещё'), (0.057049790538512946, 'доход'), (0.057049790538512946, 'время'), (0.057049790538512946, 'возвращение'), (0.057049790538512946, 'большинство'), (0.057049790538512946, 'аналогичный'), (0.057049790538512946, 'активный'), (0.057049790538512946, 'август'), (0.057049790538512946, 'twittercom'), (0.057049790538512946, 'tower'), (0.057049790538512946, 'sensor'), (0.057049790538512946, 'ebiquity'), (0.057049790538512946, 'arstechnica'), (0.057049790538512946, '100'), (0.028524895269256473, 'ясный'), (0.028524895269256473, 'штат'), (0.028524895269256473, 'шаг'), (0.028524895269256473, 'четверть'), (0.028524895269256473, 'четверг'), (0.028524895269256473, 'человек'), (0.028524895269256473, 'частный'), (0.028524895269256473, 'цифровой'), (0.028524895269256473, 'хотя'), (0.028524895269256473, 'хаотичный'), (0.028524895269256473, 'франция'), (0.028524895269256473, 'финансовый'), (0.028524895269256473, 'утверждать'), (0.028524895269256473, 'уровень'), (0.028524895269256473, 'управлять'), (0.028524895269256473, 'управление'), (0.028524895269256473, 'упасть'), (0.028524895269256473, 'упадок'), (0.028524895269256473, 'уволить'), (0.028524895269256473, 'увеличить'), (0.028524895269256473, 'трудный'), (0.028524895269256473, 'тратить'), (0.028524895269256473, 'топменеджмент'), (0.028524895269256473, 'течение'), (0.028524895269256473, 'тенденция'), (0.028524895269256473, 'сша'), (0.028524895269256473, 'страна'), (0.028524895269256473, 'сторонний'), (0.028524895269256473, 'столь'), (0.028524895269256473, 'стоимость'), (0.028524895269256473, 'старший'), (0.028524895269256473, 'сталкиваться'), (0.028524895269256473, 'сразу'), (0.028524895269256473, 'спорный'), (0.028524895269256473, 'состояние'), (0.028524895269256473, 'составить'), (0.028524895269256473, 'сопровождаться'), (0.028524895269256473, 'сообщаться'), (0.028524895269256473, 'снижение'), (0.028524895269256473, 'сми'), (0.028524895269256473, 'слить'), (0.028524895269256473, 'следующий'), (0.028524895269256473, 'середина'), (0.028524895269256473, 'сервис'), (0.028524895269256473, 'сентябрьский'), (0.028524895269256473, 'рекомендация'), (0.028524895269256473, 'ребрендинг'), (0.028524895269256473, 'реализовать'), (0.028524895269256473, 'работать'), (0.028524895269256473, 'путь'), (0.028524895269256473, 'публикация'), (0.028524895269256473, 'прошлое'), (0.028524895269256473, 'прошедший'), (0.028524895269256473, 'прошедшее'), (0.028524895269256473, 'процент'), (0.028524895269256473, 'приходиться'), (0.028524895269256473, 'приостановка'), (0.028524895269256473, 'приостановить'), (0.028524895269256473, 'приобретение'), (0.028524895269256473, 'приобрести'), (0.028524895269256473, 'приложение'), (0.028524895269256473, 'прийти'), (0.028524895269256473, 'приводиться'), (0.028524895269256473, 'приводить'), (0.028524895269256473, 'прежний'), (0.028524895269256473, 'предшествовать'), (0.028524895269256473, 'предприятие'), (0.028524895269256473, 'предоставлять'), (0.028524895269256473, 'превратить'), (0.028524895269256473, 'потратить'), (0.028524895269256473, 'пострадать'), (0.028524895269256473, 'попытка'), (0.028524895269256473, 'попробовать'), (0.028524895269256473, 'политика'), (0.028524895269256473, 'показатель'), (0.028524895269256473, 'поздний'), (0.028524895269256473, 'подчёркивать'), (0.028524895269256473, 'подробный'), (0.028524895269256473, 'подписка'), (0.028524895269256473, 'подвести'), (0.028524895269256473, 'подавлять'), (0.028524895269256473, 'повлиять'), (0.028524895269256473, 'платёж'), (0.028524895269256473, 'плата'), (0.028524895269256473, 'план'), (0.028524895269256473, 'писать'), (0.028524895269256473, 'период'), (0.028524895269256473, 'перестать'), (0.028524895269256473, 'первый'), (0.028524895269256473, 'параметр'), (0.028524895269256473, 'оценка'), (0.028524895269256473, 'оценить'), (0.028524895269256473, 'официально'), (0.028524895269256473, 'отпугнуть'), (0.028524895269256473, 'относительно'), (0.028524895269256473, 'отменить'), (0.028524895269256473, 'откуда'), (0.028524895269256473, 'открытый'), (0.028524895269256473, 'остаться'), (0.028524895269256473, 'остальной'), (0.028524895269256473, 'основный'), (0.028524895269256473, 'ориентироваться'), (0.028524895269256473, 'опубликовать'), (0.028524895269256473, 'означать'), (0.028524895269256473, 'огромный'), (0.028524895269256473, 'общий'), (0.028524895269256473, 'образ'), (0.028524895269256473, 'ныне'), (0.028524895269256473, 'непредсказуемый'), (0.028524895269256473, 'неожиданный'), (0.028524895269256473, 'необдуманный'), (0.028524895269256473, 'немного'), (0.028524895269256473, 'немедленно'), (0.028524895269256473, 'некоторый'), (0.028524895269256473, 'независимо'), (0.028524895269256473, 'небольшой'), (0.028524895269256473, 'начало'), (0.028524895269256473, 'находиться'), (0.028524895269256473, 'намерение'), (0.028524895269256473, 'момент'), (0.028524895269256473, 'модератор'), (0.028524895269256473, 'многое'), (0.028524895269256473, 'многий'), (0.028524895269256473, 'многие'), (0.028524895269256473, 'мнение'), (0.028524895269256473, 'мир'), (0.028524895269256473, 'миллион'), (0.028524895269256473, 'мешать'), (0.028524895269256473, 'менее'), (0.028524895269256473, 'менеджер'), (0.028524895269256473, 'материал'), (0.028524895269256473, 'массовый'), (0.028524895269256473, 'маркетинговый'), (0.028524895269256473, 'маленький'), (0.028524895269256473, 'май'), (0.028524895269256473, 'линда'), (0.028524895269256473, 'консалтинговый'), (0.028524895269256473, 'конкуренция'), (0.028524895269256473, 'конец'), (0.028524895269256473, 'комментарий'), (0.028524895269256473, 'клиент'), (0.028524895269256473, 'карра'), (0.028524895269256473, 'итог'), (0.028524895269256473, 'источник'), (0.028524895269256473, 'история'), (0.028524895269256473, 'исследовательский'), (0.028524895269256473, 'использование'), (0.028524895269256473, 'импульсивный'), (0.028524895269256473, 'илоно'), (0.028524895269256473, 'илона'), (0.028524895269256473, 'изз'), (0.028524895269256473, 'затмеваться'), (0.028524895269256473, 'заплатить'), (0.028524895269256473, 'жёсткий'), (0.028524895269256473, 'жаловаться'), (0.028524895269256473, 'её'), (0.028524895269256473, 'дэвид'), (0.028524895269256473, 'должный'), (0.028524895269256473, 'директор'), (0.028524895269256473, 'гораздо'), (0.028524895269256473, 'говориться'), (0.028524895269256473, 'глобальный'), (0.028524895269256473, 'германия'), (0.028524895269256473, 'генеральный'), (0.028524895269256473, 'газета'), (0.028524895269256473, 'выраженный'), (0.028524895269256473, 'всё'), (0.028524895269256473, 'вместе'), (0.028524895269256473, 'власть'), (0.028524895269256473, 'владение'), (0.028524895269256473, 'включать'), (0.028524895269256473, 'видеть'), (0.028524895269256473, 'видеозвонок'), (0.028524895269256473, 'взять'), (0.028524895269256473, 'взимание'), (0.028524895269256473, 'весьма'), (0.028524895269256473, 'вероятно'), (0.028524895269256473, 'верификация'), (0.028524895269256473, 'великобритания'), (0.028524895269256473, 'ведущий'), (0.028524895269256473, 'важный'), (0.028524895269256473, 'бурный'), (0.028524895269256473, 'будущий'), (0.028524895269256473, 'бренд'), (0.028524895269256473, 'бот'), (0.028524895269256473, 'борьба'), (0.028524895269256473, 'больший'), (0.028524895269256473, 'аудио'), (0.028524895269256473, 'апрель'), (0.028524895269256473, 'акционер'), (0.028524895269256473, 'аккаунт'), (0.028524895269256473, 'агентство'), (0.028524895269256473, 'австралия'), (0.028524895269256473, 'visa'), (0.028524895269256473, 'the'), (0.028524895269256473, 'tesla'), (0.028524895269256473, 'similarweb'), (0.028524895269256473, 'mondelez'), (0.028524895269256473, 'media'), (0.028524895269256473, 'matters'), (0.028524895269256473, 'likeweb'), (0.028524895269256473, 'international'), (0.028524895269256473, 'insider'), (0.028524895269256473, 'information'), (0.028524895269256473, 'ibm'), (0.028524895269256473, 'hbo'), (0.028524895269256473, 'for'), (0.028524895269256473, 'fidelity'), (0.028524895269256473, 'cocacola'), (0.028524895269256473, 'business'), (0.028524895269256473, 'bloomberg'), (0.028524895269256473, 'america'), (0.028524895269256473, 'adstwittercom'), (0.028524895269256473, '90'), (0.028524895269256473, '77'), (0.028524895269256473, '70'), (0.028524895269256473, '5000'), (0.028524895269256473, '500'), (0.028524895269256473, '37дый'), (0.028524895269256473, '31'), (0.028524895269256473, '27'), (0.028524895269256473, '250'), (0.028524895269256473, '245'), (0.028524895269256473, '2023'), (0.028524895269256473, '19'), (0.028524895269256473, '179'), (0.028524895269256473, '175'), (0.028524895269256473, '165'), (0.028524895269256473, '1500'), (0.028524895269256473, '15'), (0.028524895269256473, '14'), (0.028524895269256473, '134'), (0.028524895269256473, '13'), (0.028524895269256473, '116'), (0.028524895269256473, '10')]\n"
          ]
        }
      ]
    },
    {
      "cell_type": "code",
      "source": [
        "d_metrics = {}\n",
        "\n",
        "for pair in tf_idf_metrics:\n",
        "    d_metrics[pair[1]] = pair[0]\n",
        "\n",
        "d_metrics['компания']"
      ],
      "metadata": {
        "colab": {
          "base_uri": "https://localhost:8080/"
        },
        "id": "JGZvMXp2rkk0",
        "outputId": "aaf947ea-3936-4c11-8e7a-e04fcf9bbb4d"
      },
      "execution_count": 297,
      "outputs": [
        {
          "output_type": "execute_result",
          "data": {
            "text/plain": [
              "0.28524895269256473"
            ]
          },
          "metadata": {},
          "execution_count": 297
        }
      ]
    },
    {
      "cell_type": "code",
      "source": [
        "# вычисляю весы предложений, предложения идут по порядку\n",
        "# первому предложению в исходном тексте соотв первая запись в массиве\n",
        "sentences_tf_idf = {}\n",
        "i = -1\n",
        "\n",
        "for sentence in prepared_sentences:\n",
        "    val = 0\n",
        "    i += 1\n",
        "    words = sentence.split()\n",
        "\n",
        "    for word in words:\n",
        "        if word in d_metrics:\n",
        "            val += d_metrics[word]\n",
        "\n",
        "    sentences_tf_idf[i] = val"
      ],
      "metadata": {
        "id": "Diyrvsb2r_7J"
      },
      "execution_count": 298,
      "outputs": []
    },
    {
      "cell_type": "code",
      "source": [
        "sentences_tf_idf"
      ],
      "metadata": {
        "colab": {
          "base_uri": "https://localhost:8080/"
        },
        "id": "WVQJ7FG_tdkI",
        "outputId": "db18fcf9-f589-4ff4-9cdd-26ce42ff3a6c"
      },
      "execution_count": 299,
      "outputs": [
        {
          "output_type": "execute_result",
          "data": {
            "text/plain": [
              "{0: 1.2265704965780284,\n",
              " 1: 0.6560725911928991,\n",
              " 2: 1.1980456013087721,\n",
              " 3: 1.4262447634628244,\n",
              " 4: 1.682968820886132,\n",
              " 5: 0.9127966486162074,\n",
              " 6: 1.0268962296932331,\n",
              " 7: 2.0252675641172098,\n",
              " 8: 1.54034434453985,\n",
              " 9: 0.6845974864621556,\n",
              " 10: 0.3993485337695906,\n",
              " 11: 1.54034434453985,\n",
              " 12: 1.0839460202317461,\n",
              " 13: 1.0839460202317461,\n",
              " 14: 1.4262447634628237,\n",
              " 15: 0.656072591192899,\n",
              " 16: 0.8842717533469509,\n",
              " 17: 1.6259190303476194,\n",
              " 18: 0.9983713344239769,\n",
              " 19: 1.7114937161553887,\n",
              " 20: 0.7986970675391812,\n",
              " 21: 1.2265704965780282,\n",
              " 22: 1.6829688208861324,\n",
              " 23: 0.45639832430810356,\n",
              " 24: 2.339041412079031,\n",
              " 25: 1.1980456013087724,\n",
              " 26: 1.483294554001337,\n",
              " 27: 1.1980456013087721,\n",
              " 28: 0.17114937161553884,\n",
              " 29: 0.7131223817314118}"
            ]
          },
          "metadata": {},
          "execution_count": 299
        }
      ]
    },
    {
      "cell_type": "code",
      "source": [
        "sentences_tf_idf_sorted = sorted(sentences_tf_idf.items(), key=lambda x:x[1], reverse=True)\n",
        "sentences_tf_idf_sorted"
      ],
      "metadata": {
        "colab": {
          "base_uri": "https://localhost:8080/"
        },
        "id": "8fTa5bJot_U5",
        "outputId": "d26f4075-45bf-4952-e68a-1c07df151ae4"
      },
      "execution_count": 300,
      "outputs": [
        {
          "output_type": "execute_result",
          "data": {
            "text/plain": [
              "[(24, 2.339041412079031),\n",
              " (7, 2.0252675641172098),\n",
              " (19, 1.7114937161553887),\n",
              " (22, 1.6829688208861324),\n",
              " (4, 1.682968820886132),\n",
              " (17, 1.6259190303476194),\n",
              " (8, 1.54034434453985),\n",
              " (11, 1.54034434453985),\n",
              " (26, 1.483294554001337),\n",
              " (3, 1.4262447634628244),\n",
              " (14, 1.4262447634628237),\n",
              " (0, 1.2265704965780284),\n",
              " (21, 1.2265704965780282),\n",
              " (25, 1.1980456013087724),\n",
              " (2, 1.1980456013087721),\n",
              " (27, 1.1980456013087721),\n",
              " (12, 1.0839460202317461),\n",
              " (13, 1.0839460202317461),\n",
              " (6, 1.0268962296932331),\n",
              " (18, 0.9983713344239769),\n",
              " (5, 0.9127966486162074),\n",
              " (16, 0.8842717533469509),\n",
              " (20, 0.7986970675391812),\n",
              " (29, 0.7131223817314118),\n",
              " (9, 0.6845974864621556),\n",
              " (1, 0.6560725911928991),\n",
              " (15, 0.656072591192899),\n",
              " (23, 0.45639832430810356),\n",
              " (10, 0.3993485337695906),\n",
              " (28, 0.17114937161553884)]"
            ]
          },
          "metadata": {},
          "execution_count": 300
        }
      ]
    },
    {
      "cell_type": "code",
      "source": [
        "compr_rate = 0.1\n",
        "sentence_count = round(len(sentences_tf_idf) * compr_rate)\n",
        "sentence_count"
      ],
      "metadata": {
        "colab": {
          "base_uri": "https://localhost:8080/"
        },
        "id": "w8sR5wctu3GI",
        "outputId": "22965db4-abf6-4448-dbad-c064ab24e2ae"
      },
      "execution_count": 301,
      "outputs": [
        {
          "output_type": "execute_result",
          "data": {
            "text/plain": [
              "3"
            ]
          },
          "metadata": {},
          "execution_count": 301
        }
      ]
    },
    {
      "cell_type": "code",
      "source": [
        "sentence_ids = sorted([x[0] for x in sentences_tf_idf_sorted[:sentence_count]])\n",
        "sentence_ids"
      ],
      "metadata": {
        "colab": {
          "base_uri": "https://localhost:8080/"
        },
        "id": "R2JC0xIvvQR4",
        "outputId": "d435fa5b-616e-449d-c03a-1ca1786fd493"
      },
      "execution_count": 312,
      "outputs": [
        {
          "output_type": "execute_result",
          "data": {
            "text/plain": [
              "[7, 19, 24]"
            ]
          },
          "metadata": {},
          "execution_count": 312
        }
      ]
    },
    {
      "cell_type": "code",
      "source": [
        "summary = \"\"\n",
        "summary_arr = []\n",
        "\n",
        "for i in sentence_ids:\n",
        "    summary += origin_sentences[i] + '. '\n",
        "    summary_arr.append(origin_sentences[i] + '. ')\n",
        "\n",
        "summary"
      ],
      "metadata": {
        "colab": {
          "base_uri": "https://localhost:8080/",
          "height": 70
        },
        "id": "V-1ts5-Ivues",
        "outputId": "d1f287df-4d44-48ba-b986-428bcd9de571"
      },
      "execution_count": 310,
      "outputs": [
        {
          "output_type": "execute_result",
          "data": {
            "text/plain": [
              "'Как отмечает ArsTechnica, после того как Маск сделал компанию частной, она перестала предоставлять подробные отчёты о своём финансовом состоянии и числе пользователей, однако сторонние аналитики, ориентируясь на открытые и слитые данные, считают, что платформа находится в упадке. На этой неделе газета Business Insider сообщила, что «подавляющее большинство рекламодателей с крупнейшими расходами в мире приостановили публикацию рекламу на X после приобретения компании Илоном Маском». В отчёте Media Matters for America сообщается, что Visa, один из крупнейших рекламодателей X, потратила на платформе всего $10 за несколько недель, предшествовавших комментариям Яккарино, по сравнению с $77 500 за несколько недель до того, как Маск купил компанию. '"
            ],
            "application/vnd.google.colaboratory.intrinsic+json": {
              "type": "string"
            }
          },
          "metadata": {},
          "execution_count": 310
        }
      ]
    },
    {
      "cell_type": "code",
      "source": [
        "for s in summary_arr:\n",
        "    print(s, end='\\n\\n')"
      ],
      "metadata": {
        "colab": {
          "base_uri": "https://localhost:8080/"
        },
        "id": "T84yvktLxkbB",
        "outputId": "d02b909b-3900-46e4-e974-e421a303f33f"
      },
      "execution_count": 311,
      "outputs": [
        {
          "output_type": "stream",
          "name": "stdout",
          "text": [
            "Как отмечает ArsTechnica, после того как Маск сделал компанию частной, она перестала предоставлять подробные отчёты о своём финансовом состоянии и числе пользователей, однако сторонние аналитики, ориентируясь на открытые и слитые данные, считают, что платформа находится в упадке. \n",
            "\n",
            "На этой неделе газета Business Insider сообщила, что «подавляющее большинство рекламодателей с крупнейшими расходами в мире приостановили публикацию рекламу на X после приобретения компании Илоном Маском». \n",
            "\n",
            "В отчёте Media Matters for America сообщается, что Visa, один из крупнейших рекламодателей X, потратила на платформе всего $10 за несколько недель, предшествовавших комментариям Яккарино, по сравнению с $77 500 за несколько недель до того, как Маск купил компанию. \n",
            "\n"
          ]
        }
      ]
    }
  ]
}